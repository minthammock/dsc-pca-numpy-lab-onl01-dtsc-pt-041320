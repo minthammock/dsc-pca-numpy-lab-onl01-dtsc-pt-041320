{
 "cells": [
  {
   "cell_type": "markdown",
   "metadata": {},
   "source": [
    "# Performing Principal Component Analysis (PCA) - Lab\n",
    "\n",
    "## Introduction\n",
    "\n",
    "Now that you have a high-level overview of PCA, as well as some of the details of the algorithm itself, it's time to practice implementing PCA on your own using the NumPy package. \n",
    "\n",
    "## Objectives\n",
    "\n",
    "You will be able to:\n",
    "    \n",
    "* Implement PCA from scratch using NumPy"
   ]
  },
  {
   "cell_type": "markdown",
   "metadata": {},
   "source": [
    "## Import the data\n",
    "\n",
    "- Import the data stored in the file `'foodusa.csv'` (set `index_col=0`)\n",
    "- Print the first five rows of the DataFrame "
   ]
  },
  {
   "cell_type": "code",
   "execution_count": 38,
   "metadata": {},
   "outputs": [
    {
     "data": {
      "text/html": [
       "<div>\n",
       "<style scoped>\n",
       "    .dataframe tbody tr th:only-of-type {\n",
       "        vertical-align: middle;\n",
       "    }\n",
       "\n",
       "    .dataframe tbody tr th {\n",
       "        vertical-align: top;\n",
       "    }\n",
       "\n",
       "    .dataframe thead th {\n",
       "        text-align: right;\n",
       "    }\n",
       "</style>\n",
       "<table border=\"1\" class=\"dataframe\">\n",
       "  <thead>\n",
       "    <tr style=\"text-align: right;\">\n",
       "      <th>City</th>\n",
       "      <th>ATLANTA</th>\n",
       "      <th>BALTIMORE</th>\n",
       "      <th>BOSTON</th>\n",
       "      <th>BUFFALO</th>\n",
       "      <th>CHICAGO</th>\n",
       "      <th>CINCINNATI</th>\n",
       "      <th>CLEVELAND</th>\n",
       "      <th>DALLAS</th>\n",
       "      <th>DETROIT</th>\n",
       "      <th>HONALULU</th>\n",
       "      <th>HOUSTON</th>\n",
       "      <th>KANSAS CITY</th>\n",
       "      <th>LOS ANGELES</th>\n",
       "      <th>MILWAUKEE</th>\n",
       "      <th>MINNEAPOLIS</th>\n",
       "      <th>NEW YORK</th>\n",
       "      <th>PHILADELPHIA</th>\n",
       "      <th>PITTSBURGH</th>\n",
       "      <th>ST LOUIS</th>\n",
       "      <th>SAN DIEGO</th>\n",
       "      <th>SAN FRANCISCO</th>\n",
       "      <th>SEATTLE</th>\n",
       "      <th>WASHINGTON DC</th>\n",
       "    </tr>\n",
       "  </thead>\n",
       "  <tbody>\n",
       "    <tr>\n",
       "      <th>Bread</th>\n",
       "      <td>24.5</td>\n",
       "      <td>26.5</td>\n",
       "      <td>29.7</td>\n",
       "      <td>22.8</td>\n",
       "      <td>26.7</td>\n",
       "      <td>25.3</td>\n",
       "      <td>22.8</td>\n",
       "      <td>23.3</td>\n",
       "      <td>24.1</td>\n",
       "      <td>29.3</td>\n",
       "      <td>22.3</td>\n",
       "      <td>26.1</td>\n",
       "      <td>26.9</td>\n",
       "      <td>20.3</td>\n",
       "      <td>24.6</td>\n",
       "      <td>30.8</td>\n",
       "      <td>24.5</td>\n",
       "      <td>26.2</td>\n",
       "      <td>26.5</td>\n",
       "      <td>25.5</td>\n",
       "      <td>26.3</td>\n",
       "      <td>22.5</td>\n",
       "      <td>24.2</td>\n",
       "    </tr>\n",
       "    <tr>\n",
       "      <th>Burger</th>\n",
       "      <td>94.5</td>\n",
       "      <td>91.0</td>\n",
       "      <td>100.8</td>\n",
       "      <td>86.6</td>\n",
       "      <td>86.7</td>\n",
       "      <td>102.5</td>\n",
       "      <td>88.8</td>\n",
       "      <td>85.5</td>\n",
       "      <td>93.7</td>\n",
       "      <td>105.9</td>\n",
       "      <td>83.6</td>\n",
       "      <td>88.9</td>\n",
       "      <td>89.3</td>\n",
       "      <td>89.6</td>\n",
       "      <td>92.2</td>\n",
       "      <td>110.7</td>\n",
       "      <td>92.3</td>\n",
       "      <td>95.4</td>\n",
       "      <td>92.4</td>\n",
       "      <td>83.7</td>\n",
       "      <td>87.1</td>\n",
       "      <td>77.7</td>\n",
       "      <td>93.8</td>\n",
       "    </tr>\n",
       "    <tr>\n",
       "      <th>Milk</th>\n",
       "      <td>73.9</td>\n",
       "      <td>67.5</td>\n",
       "      <td>61.4</td>\n",
       "      <td>65.3</td>\n",
       "      <td>62.7</td>\n",
       "      <td>63.3</td>\n",
       "      <td>52.4</td>\n",
       "      <td>62.5</td>\n",
       "      <td>51.5</td>\n",
       "      <td>80.2</td>\n",
       "      <td>67.8</td>\n",
       "      <td>65.4</td>\n",
       "      <td>56.2</td>\n",
       "      <td>53.8</td>\n",
       "      <td>51.9</td>\n",
       "      <td>66.0</td>\n",
       "      <td>66.7</td>\n",
       "      <td>60.2</td>\n",
       "      <td>60.8</td>\n",
       "      <td>57.0</td>\n",
       "      <td>58.3</td>\n",
       "      <td>62.0</td>\n",
       "      <td>66.0</td>\n",
       "    </tr>\n",
       "    <tr>\n",
       "      <th>Oranges</th>\n",
       "      <td>80.1</td>\n",
       "      <td>74.6</td>\n",
       "      <td>104.0</td>\n",
       "      <td>118.4</td>\n",
       "      <td>105.9</td>\n",
       "      <td>99.3</td>\n",
       "      <td>110.9</td>\n",
       "      <td>117.9</td>\n",
       "      <td>109.7</td>\n",
       "      <td>133.2</td>\n",
       "      <td>108.6</td>\n",
       "      <td>100.9</td>\n",
       "      <td>82.7</td>\n",
       "      <td>111.8</td>\n",
       "      <td>106.0</td>\n",
       "      <td>107.3</td>\n",
       "      <td>98.0</td>\n",
       "      <td>117.1</td>\n",
       "      <td>115.1</td>\n",
       "      <td>92.8</td>\n",
       "      <td>101.8</td>\n",
       "      <td>91.1</td>\n",
       "      <td>81.6</td>\n",
       "    </tr>\n",
       "    <tr>\n",
       "      <th>Tomatoes</th>\n",
       "      <td>41.6</td>\n",
       "      <td>53.3</td>\n",
       "      <td>59.6</td>\n",
       "      <td>51.2</td>\n",
       "      <td>51.2</td>\n",
       "      <td>45.6</td>\n",
       "      <td>46.8</td>\n",
       "      <td>41.8</td>\n",
       "      <td>52.4</td>\n",
       "      <td>61.7</td>\n",
       "      <td>42.4</td>\n",
       "      <td>43.2</td>\n",
       "      <td>38.4</td>\n",
       "      <td>53.9</td>\n",
       "      <td>50.7</td>\n",
       "      <td>62.6</td>\n",
       "      <td>61.7</td>\n",
       "      <td>49.3</td>\n",
       "      <td>46.2</td>\n",
       "      <td>35.4</td>\n",
       "      <td>41.5</td>\n",
       "      <td>44.9</td>\n",
       "      <td>46.2</td>\n",
       "    </tr>\n",
       "  </tbody>\n",
       "</table>\n",
       "</div>"
      ],
      "text/plain": [
       "City      ATLANTA  BALTIMORE  BOSTON  BUFFALO  CHICAGO  ...  ST LOUIS  SAN DIEGO  SAN FRANCISCO  SEATTLE  WASHINGTON DC\n",
       "Bread        24.5       26.5    29.7     22.8     26.7  ...      26.5       25.5           26.3     22.5           24.2\n",
       "Burger       94.5       91.0   100.8     86.6     86.7  ...      92.4       83.7           87.1     77.7           93.8\n",
       "Milk         73.9       67.5    61.4     65.3     62.7  ...      60.8       57.0           58.3     62.0           66.0\n",
       "Oranges      80.1       74.6   104.0    118.4    105.9  ...     115.1       92.8          101.8     91.1           81.6\n",
       "Tomatoes     41.6       53.3    59.6     51.2     51.2  ...      46.2       35.4           41.5     44.9           46.2\n",
       "\n",
       "[5 rows x 23 columns]"
      ]
     },
     "execution_count": 38,
     "metadata": {},
     "output_type": "execute_result"
    }
   ],
   "source": [
    "import pandas as pd\n",
    "data = pd.read_csv('./foodusa.csv', index_col = 0).T\n",
    "data\n"
   ]
  },
  {
   "cell_type": "markdown",
   "metadata": {},
   "source": [
    "## Normalize the data\n",
    "\n",
    "Next, normalize your data by subtracting the mean from each of the columns."
   ]
  },
  {
   "cell_type": "code",
   "execution_count": 39,
   "metadata": {},
   "outputs": [],
   "source": [
    "def center(column):\n",
    "    mean = column.mean()\n",
    "    centered_column = column - mean\n",
    "    return centered_column"
   ]
  },
  {
   "cell_type": "code",
   "execution_count": 40,
   "metadata": {},
   "outputs": [
    {
     "data": {
      "text/html": [
       "<div>\n",
       "<style scoped>\n",
       "    .dataframe tbody tr th:only-of-type {\n",
       "        vertical-align: middle;\n",
       "    }\n",
       "\n",
       "    .dataframe tbody tr th {\n",
       "        vertical-align: top;\n",
       "    }\n",
       "\n",
       "    .dataframe thead th {\n",
       "        text-align: right;\n",
       "    }\n",
       "</style>\n",
       "<table border=\"1\" class=\"dataframe\">\n",
       "  <thead>\n",
       "    <tr style=\"text-align: right;\">\n",
       "      <th>City</th>\n",
       "      <th>ATLANTA</th>\n",
       "      <th>BALTIMORE</th>\n",
       "      <th>BOSTON</th>\n",
       "      <th>BUFFALO</th>\n",
       "      <th>CHICAGO</th>\n",
       "      <th>CINCINNATI</th>\n",
       "      <th>CLEVELAND</th>\n",
       "      <th>DALLAS</th>\n",
       "      <th>DETROIT</th>\n",
       "      <th>HONALULU</th>\n",
       "      <th>HOUSTON</th>\n",
       "      <th>KANSAS CITY</th>\n",
       "      <th>LOS ANGELES</th>\n",
       "      <th>MILWAUKEE</th>\n",
       "      <th>MINNEAPOLIS</th>\n",
       "      <th>NEW YORK</th>\n",
       "      <th>PHILADELPHIA</th>\n",
       "      <th>PITTSBURGH</th>\n",
       "      <th>ST LOUIS</th>\n",
       "      <th>SAN DIEGO</th>\n",
       "      <th>SAN FRANCISCO</th>\n",
       "      <th>SEATTLE</th>\n",
       "      <th>WASHINGTON DC</th>\n",
       "    </tr>\n",
       "  </thead>\n",
       "  <tbody>\n",
       "    <tr>\n",
       "      <th>Bread</th>\n",
       "      <td>-38.42</td>\n",
       "      <td>-36.08</td>\n",
       "      <td>-41.4</td>\n",
       "      <td>-46.06</td>\n",
       "      <td>-39.94</td>\n",
       "      <td>-41.9</td>\n",
       "      <td>-41.54</td>\n",
       "      <td>-42.9</td>\n",
       "      <td>-42.18</td>\n",
       "      <td>-52.76</td>\n",
       "      <td>-42.64</td>\n",
       "      <td>-38.8</td>\n",
       "      <td>-31.8</td>\n",
       "      <td>-45.58</td>\n",
       "      <td>-40.48</td>\n",
       "      <td>-44.68</td>\n",
       "      <td>-44.14</td>\n",
       "      <td>-43.44</td>\n",
       "      <td>-41.7</td>\n",
       "      <td>-33.38</td>\n",
       "      <td>-36.7</td>\n",
       "      <td>-37.14</td>\n",
       "      <td>-38.16</td>\n",
       "    </tr>\n",
       "    <tr>\n",
       "      <th>Burger</th>\n",
       "      <td>31.58</td>\n",
       "      <td>28.42</td>\n",
       "      <td>29.7</td>\n",
       "      <td>17.74</td>\n",
       "      <td>20.06</td>\n",
       "      <td>35.3</td>\n",
       "      <td>24.46</td>\n",
       "      <td>19.3</td>\n",
       "      <td>27.42</td>\n",
       "      <td>23.84</td>\n",
       "      <td>18.66</td>\n",
       "      <td>24.0</td>\n",
       "      <td>30.6</td>\n",
       "      <td>23.72</td>\n",
       "      <td>27.12</td>\n",
       "      <td>35.22</td>\n",
       "      <td>23.66</td>\n",
       "      <td>25.76</td>\n",
       "      <td>24.2</td>\n",
       "      <td>24.82</td>\n",
       "      <td>24.1</td>\n",
       "      <td>18.06</td>\n",
       "      <td>31.44</td>\n",
       "    </tr>\n",
       "    <tr>\n",
       "      <th>Milk</th>\n",
       "      <td>10.98</td>\n",
       "      <td>4.92</td>\n",
       "      <td>-9.7</td>\n",
       "      <td>-3.56</td>\n",
       "      <td>-3.94</td>\n",
       "      <td>-3.9</td>\n",
       "      <td>-11.94</td>\n",
       "      <td>-3.7</td>\n",
       "      <td>-14.78</td>\n",
       "      <td>-1.86</td>\n",
       "      <td>2.86</td>\n",
       "      <td>0.5</td>\n",
       "      <td>-2.5</td>\n",
       "      <td>-12.08</td>\n",
       "      <td>-13.18</td>\n",
       "      <td>-9.48</td>\n",
       "      <td>-1.94</td>\n",
       "      <td>-9.44</td>\n",
       "      <td>-7.4</td>\n",
       "      <td>-1.88</td>\n",
       "      <td>-4.7</td>\n",
       "      <td>2.36</td>\n",
       "      <td>3.64</td>\n",
       "    </tr>\n",
       "    <tr>\n",
       "      <th>Oranges</th>\n",
       "      <td>17.18</td>\n",
       "      <td>12.02</td>\n",
       "      <td>32.9</td>\n",
       "      <td>49.54</td>\n",
       "      <td>39.26</td>\n",
       "      <td>32.1</td>\n",
       "      <td>46.56</td>\n",
       "      <td>51.7</td>\n",
       "      <td>43.42</td>\n",
       "      <td>51.14</td>\n",
       "      <td>43.66</td>\n",
       "      <td>36.0</td>\n",
       "      <td>24.0</td>\n",
       "      <td>45.92</td>\n",
       "      <td>40.92</td>\n",
       "      <td>31.82</td>\n",
       "      <td>29.36</td>\n",
       "      <td>47.46</td>\n",
       "      <td>46.9</td>\n",
       "      <td>33.92</td>\n",
       "      <td>38.8</td>\n",
       "      <td>31.46</td>\n",
       "      <td>19.24</td>\n",
       "    </tr>\n",
       "    <tr>\n",
       "      <th>Tomatoes</th>\n",
       "      <td>-21.32</td>\n",
       "      <td>-9.28</td>\n",
       "      <td>-11.5</td>\n",
       "      <td>-17.66</td>\n",
       "      <td>-15.44</td>\n",
       "      <td>-21.6</td>\n",
       "      <td>-17.54</td>\n",
       "      <td>-24.4</td>\n",
       "      <td>-13.88</td>\n",
       "      <td>-20.36</td>\n",
       "      <td>-22.54</td>\n",
       "      <td>-21.7</td>\n",
       "      <td>-20.3</td>\n",
       "      <td>-11.98</td>\n",
       "      <td>-14.38</td>\n",
       "      <td>-12.88</td>\n",
       "      <td>-6.94</td>\n",
       "      <td>-20.34</td>\n",
       "      <td>-22.0</td>\n",
       "      <td>-23.48</td>\n",
       "      <td>-21.5</td>\n",
       "      <td>-14.74</td>\n",
       "      <td>-16.16</td>\n",
       "    </tr>\n",
       "  </tbody>\n",
       "</table>\n",
       "</div>"
      ],
      "text/plain": [
       "City      ATLANTA  BALTIMORE  BOSTON  BUFFALO  CHICAGO  ...  ST LOUIS  SAN DIEGO  SAN FRANCISCO  SEATTLE  WASHINGTON DC\n",
       "Bread      -38.42     -36.08   -41.4   -46.06   -39.94  ...     -41.7     -33.38          -36.7   -37.14         -38.16\n",
       "Burger      31.58      28.42    29.7    17.74    20.06  ...      24.2      24.82           24.1    18.06          31.44\n",
       "Milk        10.98       4.92    -9.7    -3.56    -3.94  ...      -7.4      -1.88           -4.7     2.36           3.64\n",
       "Oranges     17.18      12.02    32.9    49.54    39.26  ...      46.9      33.92           38.8    31.46          19.24\n",
       "Tomatoes   -21.32      -9.28   -11.5   -17.66   -15.44  ...     -22.0     -23.48          -21.5   -14.74         -16.16\n",
       "\n",
       "[5 rows x 23 columns]"
      ]
     },
     "execution_count": 40,
     "metadata": {},
     "output_type": "execute_result"
    }
   ],
   "source": [
    "for column in data.columns:\n",
    "    data[column] = center(data[column])\n",
    "data.head()"
   ]
  },
  {
   "cell_type": "markdown",
   "metadata": {},
   "source": [
    "## Calculate the covariance matrix\n",
    "\n",
    "The next step is to calculate the covariance matrix for your normalized data. "
   ]
  },
  {
   "cell_type": "code",
   "execution_count": 41,
   "metadata": {},
   "outputs": [],
   "source": [
    "import numpy as np"
   ]
  },
  {
   "cell_type": "code",
   "execution_count": 42,
   "metadata": {},
   "outputs": [
    {
     "data": {
      "text/plain": [
       "array([[ 20.22148458,   4.25353202,   9.41788775, -31.09978814,\n",
       "         -2.79311621],\n",
       "       [  4.25353202,  25.82522372,  -1.38808854, -32.31274071,\n",
       "          3.62207352],\n",
       "       [  9.41788775,  -1.38808854,  41.76654387, -42.92338498,\n",
       "         -6.8729581 ],\n",
       "       [-31.09978814, -32.31274071, -42.92338498, 123.99893913,\n",
       "        -17.6630253 ],\n",
       "       [ -2.79311621,   3.62207352,  -6.8729581 , -17.6630253 ,\n",
       "         23.70702609]])"
      ]
     },
     "execution_count": 42,
     "metadata": {},
     "output_type": "execute_result"
    }
   ],
   "source": [
    "cov_mat = np.cov(data)\n",
    "cov_mat"
   ]
  },
  {
   "cell_type": "markdown",
   "metadata": {},
   "source": [
    "## Calculate the eigenvectors\n",
    "\n",
    "Next, calculate the eigenvectors and eigenvalues for your covariance matrix. "
   ]
  },
  {
   "cell_type": "code",
   "execution_count": 43,
   "metadata": {},
   "outputs": [],
   "source": [
    "import numpy as np\n",
    "eig_values, eig_vectors = np.linalg.eig(cov_mat)"
   ]
  },
  {
   "cell_type": "markdown",
   "metadata": {},
   "source": [
    "## Sort the eigenvectors \n",
    "\n",
    "Great! Now that you have the eigenvectors and their associated eigenvalues, sort the eigenvectors based on their eigenvalues to determine primary components!"
   ]
  },
  {
   "cell_type": "code",
   "execution_count": 44,
   "metadata": {},
   "outputs": [],
   "source": [
    "eig_vectors;"
   ]
  },
  {
   "cell_type": "code",
   "execution_count": 45,
   "metadata": {},
   "outputs": [
    {
     "data": {
      "text/plain": [
       "array([[ 0.34474078,  0.10836979, -0.78629411,  0.22616666,  0.4472136 ],\n",
       "       [ 0.55712543, -0.43352679,  0.50258883,  0.22151802,  0.4472136 ],\n",
       "       [-0.24405121,  0.715219  ,  0.34212738,  0.3344393 ,  0.4472136 ],\n",
       "       [ 0.05504807,  0.13108103,  0.04285946, -0.88201504,  0.4472136 ],\n",
       "       [-0.71286308, -0.52114303, -0.10128157,  0.09989106,  0.4472136 ]])"
      ]
     },
     "execution_count": 45,
     "metadata": {},
     "output_type": "execute_result"
    }
   ],
   "source": [
    "# Get the index values of the sorted eigenvalues\n",
    "e_indices = np.argsort(eig_vectors[:,-1])\n",
    "\n",
    "# Sort \n",
    "eigenvectors_sorted = eig_vectors[:,e_indices]\n",
    "eigenvectors_sorted"
   ]
  },
  {
   "cell_type": "markdown",
   "metadata": {},
   "source": [
    "## Reprojecting the data\n",
    "\n",
    "Finally, reproject the dataset using your eigenvectors. Reproject this dataset down to 2 dimensions."
   ]
  },
  {
   "cell_type": "code",
   "execution_count": 51,
   "metadata": {},
   "outputs": [
    {
     "data": {
      "text/plain": [
       "array([[ 0.34474078,  0.10836979, -0.78629411,  0.22616666,  0.4472136 ],\n",
       "       [ 0.55712543, -0.43352679,  0.50258883,  0.22151802,  0.4472136 ]])"
      ]
     },
     "execution_count": 51,
     "metadata": {},
     "output_type": "execute_result"
    }
   ],
   "source": [
    "pca = eigenvectors_sorted\n",
    "pca[:2]"
   ]
  },
  {
   "cell_type": "markdown",
   "metadata": {},
   "source": [
    "## Summary\n",
    "\n",
    "Well done! You've now coded PCA on your own using NumPy! With that, it's time to look at further applications of PCA."
   ]
  },
  {
   "cell_type": "code",
   "execution_count": 52,
   "metadata": {},
   "outputs": [
    {
     "data": {
      "text/plain": [
       "array([[ 0.34474078,  0.10836979, -0.78629411,  0.22616666,  0.4472136 ],\n",
       "       [ 0.55712543, -0.43352679,  0.50258883,  0.22151802,  0.4472136 ],\n",
       "       [-0.24405121,  0.715219  ,  0.34212738,  0.3344393 ,  0.4472136 ],\n",
       "       [ 0.05504807,  0.13108103,  0.04285946, -0.88201504,  0.4472136 ],\n",
       "       [-0.71286308, -0.52114303, -0.10128157,  0.09989106,  0.4472136 ]])"
      ]
     },
     "execution_count": 52,
     "metadata": {},
     "output_type": "execute_result"
    }
   ],
   "source": [
    "pca"
   ]
  },
  {
   "cell_type": "code",
   "execution_count": null,
   "metadata": {},
   "outputs": [],
   "source": []
  }
 ],
 "metadata": {
  "kernelspec": {
   "display_name": "Python 3",
   "language": "python",
   "name": "python3"
  },
  "language_info": {
   "codemirror_mode": {
    "name": "ipython",
    "version": 3
   },
   "file_extension": ".py",
   "mimetype": "text/x-python",
   "name": "python",
   "nbconvert_exporter": "python",
   "pygments_lexer": "ipython3",
   "version": "3.7.9"
  },
  "toc": {
   "base_numbering": 1,
   "nav_menu": {},
   "number_sections": true,
   "sideBar": true,
   "skip_h1_title": false,
   "title_cell": "Table of Contents",
   "title_sidebar": "Contents",
   "toc_cell": false,
   "toc_position": {},
   "toc_section_display": true,
   "toc_window_display": false
  }
 },
 "nbformat": 4,
 "nbformat_minor": 2
}
